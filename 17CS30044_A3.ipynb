{
 "cells": [
  {
   "cell_type": "markdown",
   "metadata": {
    "id": "zyJ25uz0kSaw"
   },
   "source": [
    "# Assignment 3 on Natural Language Processing\n",
    "\n",
    "## Date : 30th Sept, 2020\n",
    "\n",
    "### Instructor : Prof. Sudeshna Sarkar\n",
    "\n",
    "### Teaching Assistants : Alapan Kuila, Aniruddha Roy, Anusha Potnuru, Uppada Vishnu\n",
    "\n",
    "### Name : Udit Desai\n",
    "\n",
    "### Roll no. 17CS30044"
   ]
  },
  {
   "cell_type": "markdown",
   "metadata": {
    "id": "Ao1nhg9RknmF"
   },
   "source": [
    "The central idea of this assignment is to use Naive Bayes classifier and LSTM based classifier and compare the models by accuracy on IMDB dataset.\n",
    "\n"
   ]
  },
  {
   "cell_type": "markdown",
   "metadata": {
    "id": "ONM5Q4SCe9Mr"
   },
   "source": [
    "Please submit with outputs. "
   ]
  },
  {
   "cell_type": "code",
   "execution_count": 72,
   "metadata": {
    "id": "ElRkQElWUMjG"
   },
   "outputs": [],
   "source": [
    "import re\n",
    "import pandas as pd\n",
    "import numpy as np\n",
    "from sklearn.preprocessing import LabelEncoder\n",
    "from sklearn.model_selection import train_test_split\n",
    "from keras.preprocessing.text import Tokenizer\n",
    "from keras.preprocessing.sequence import pad_sequences\n",
    "import keras\n",
    "from sklearn.metrics import classification_report"
   ]
  },
  {
   "cell_type": "code",
   "execution_count": 73,
   "metadata": {
    "id": "fhHRim2AUm4z"
   },
   "outputs": [
    {
     "name": "stdout",
     "output_type": "stream",
     "text": [
      "                                                  review sentiment\n",
      "0      One of the other reviewers has mentioned that ...  positive\n",
      "1      A wonderful little production. <br /><br />The...  positive\n",
      "2      I thought this was a wonderful way to spend ti...  positive\n",
      "3      Basically there's a family where a little boy ...  negative\n",
      "4      Petter Mattei's \"Love in the Time of Money\" is...  positive\n",
      "...                                                  ...       ...\n",
      "49995  I thought this movie did a down right good job...  positive\n",
      "49996  Bad plot, bad dialogue, bad acting, idiotic di...  negative\n",
      "49997  I am a Catholic taught in parochial elementary...  negative\n",
      "49998  I'm going to have to disagree with the previou...  negative\n",
      "49999  No one expects the Star Trek movies to be high...  negative\n",
      "\n",
      "[50000 rows x 2 columns]\n"
     ]
    }
   ],
   "source": [
    "#Load the IMDB dataset. You can load it using pandas as dataframe\n",
    "df = pd.read_csv('/home/udit/Downloads/IMDB Dataset.csv')\n",
    "print(df)"
   ]
  },
  {
   "cell_type": "markdown",
   "metadata": {
    "id": "lK_Hn2f6VMP7"
   },
   "source": [
    "# Preprocessing\n",
    "PrePrecessing that needs to be done on lower cased corpus\n",
    "\n",
    "1. Remove html tags\n",
    "2. Remove URLS\n",
    "3. Remove non alphanumeric character\n",
    "4. Remove Stopwords\n",
    "5. Perform stemming and lemmatization\n",
    "\n",
    "You can use regex from re. "
   ]
  },
  {
   "cell_type": "code",
   "execution_count": 74,
   "metadata": {
    "id": "5B5lHZPsVOXv"
   },
   "outputs": [],
   "source": [
    "import nltk\n",
    "from nltk.corpus import stopwords\n",
    "from nltk.tokenize import word_tokenize\n",
    "from nltk.stem import WordNetLemmatizer\n",
    "from nltk.stem import PorterStemmer\n",
    "\n",
    "lm = WordNetLemmatizer()\n",
    "ps = PorterStemmer()\n",
    "\n",
    "stopword = set(stopwords.words('english'))\n",
    "rows = df.shape[0]\n",
    "processed_reviews = []\n",
    "for i in range(rows):\n",
    "    rev = df.iloc[i][0]\n",
    "    \n",
    "    #convert to lower case\n",
    "    rev = rev.lower()    \n",
    "   \n",
    "    #remove html tags\n",
    "    exp_html = re.compile(r'<.*?>')\n",
    "    rev = exp_html.sub('', rev)\n",
    "    \n",
    "    #remove URLS\n",
    "    rev = re.sub(r'^https?:\\/\\/.*[\\r\\n]*', '', rev, flags=re.MULTILINE)\n",
    "    \n",
    "    #remove non-alphanumeric\n",
    "    rev = re.sub(r'[^a-zA-Z0-9]', \" \", rev)\n",
    "    \n",
    "    #remove stopwords\n",
    "    word_tokens = word_tokenize(rev)\n",
    "    filtered_sentence = [w for w in word_tokens if not w in stopword]\n",
    "    rev = \" \".join(filtered_sentence)\n",
    "    \n",
    "    #lemmatize and stemming\n",
    "    word_tokens = word_tokenize(rev)\n",
    "    sentence = [lm.lemmatize(w,\"v\") for w in word_tokens]\n",
    "    #sentence = [ps.stem(w) for w in sentence]\n",
    "    rev = \" \".join(sentence)\n",
    "    processed_reviews.append(rev)\n",
    "    \n",
    "    #df.iloc[i][0] = rev\n",
    "    #print(i)\n",
    "\n"
   ]
  },
  {
   "cell_type": "code",
   "execution_count": 75,
   "metadata": {
    "scrolled": true
   },
   "outputs": [],
   "source": [
    "#print(processed_reviews)"
   ]
  },
  {
   "cell_type": "code",
   "execution_count": 76,
   "metadata": {
    "id": "DyaSkfcvYGXk"
   },
   "outputs": [
    {
     "name": "stdout",
     "output_type": "stream",
     "text": [
      "Average length of review is:  119.57722\n",
      "Proportion of positive reviews:  0.5\n",
      "Proportion of negative reviews:  0.5\n"
     ]
    }
   ],
   "source": [
    "# Print Statistics of Data like avg length of sentence , proposition of data w.r.t class labels\n",
    "sum = 0\n",
    "p=0\n",
    "n=0\n",
    "rows = len(processed_reviews)\n",
    "for i in range(rows):\n",
    "    sum = sum + len(processed_reviews[i].split())\n",
    "    if df.iloc[i][1]=='positive' :\n",
    "        p+=1\n",
    "    else :\n",
    "        n+=1   \n",
    "avg =  sum/rows\n",
    "\n",
    "\n",
    "\n",
    "print(\"Average length of review is: \", avg)\n",
    "print(\"Proportion of positive reviews: \", p/rows)\n",
    "print(\"Proportion of negative reviews: \", n/rows)  \n"
   ]
  },
  {
   "cell_type": "markdown",
   "metadata": {
    "id": "_FkJ-e2pUwun"
   },
   "source": [
    "# Naive Bayes classifier"
   ]
  },
  {
   "cell_type": "code",
   "execution_count": 77,
   "metadata": {
    "id": "eVq-mN28U_J4"
   },
   "outputs": [],
   "source": [
    "# get reviews column from df\n",
    "reviews = processed_reviews\n",
    "\n",
    "# get labels column from df\n",
    "temp = df['sentiment'].to_list()\n",
    "labels = temp"
   ]
  },
  {
   "cell_type": "code",
   "execution_count": 98,
   "metadata": {
    "id": "Ljo5NquhXTXr"
   },
   "outputs": [
    {
     "name": "stdout",
     "output_type": "stream",
     "text": [
      "1 is assumed positive, and 0 is assumed negative\n",
      "Labels :  [1 1 1 ... 0 0 0]\n"
     ]
    }
   ],
   "source": [
    "# Use label encoder to encode labels. Convert to 0/1\n",
    "print(\"1 is assumed positive, and 0 is assumed negative\")\n",
    "encoder = LabelEncoder()\n",
    "encoded_labels = encoder.fit_transform(labels)\n",
    "print(\"Labels : \", end = ' ')\n",
    "print(encoded_labels)\n",
    "# print(enc.classes_)"
   ]
  },
  {
   "cell_type": "code",
   "execution_count": 79,
   "metadata": {
    "id": "wzG-C_EVWWET"
   },
   "outputs": [],
   "source": [
    "# Split the data into train and test (80% - 20%). \n",
    "# Use stratify in train_test_split so that both train and test have similar ratio of positive and negative samples.\n",
    "\n",
    "# train_sentences, test_sentences, train_labels, test_labels\n",
    "\n",
    "X_train, X_test, y_train, y_test = train_test_split(reviews, encoded_labels, test_size=0.2, random_state=None, stratify = encoded_labels)"
   ]
  },
  {
   "cell_type": "markdown",
   "metadata": {
    "id": "Bz1YdsSkiWCX"
   },
   "source": [
    "Here there are two approaches possible for building vocabulary for the naive Bayes.\n",
    "1. Take the whole data (train + test) to build the vocab. In this way while testing there is no word which will be out of vocabulary.\n",
    "2. Take the train data to build vocab. In this case, some words from the test set may not be in vocab and hence one needs to perform smoothing so that one the probability term is not zero.\n",
    " \n",
    "You are supposed to go by the 2nd approach.\n",
    " \n",
    "Also building vocab by taking all words in the train set is memory intensive, hence you are required to build vocab by choosing the top 2000 - 3000 frequent words in the training corpus.\n",
    "\n",
    "> $ P(x_i | w_j) = \\frac{ N_{x_i,w_j}\\, +\\, \\alpha }{ N_{w_j}\\, +\\, \\alpha*d} $\n",
    "\n",
    "\n",
    "$N_{x_i,w_j}$ : Number of times feature $x_i$ appears in samples of class $w_j$\n",
    "\n",
    "$N_{w_j}$ : Total count of features in class $w_j$\n",
    "\n",
    "$\\alpha$ : Parameter for additive smoothing. Here consider $\\alpha$ = 1\n",
    "\n",
    "$d$ : Dimentionality of the feature vector  $x = [x_1,x_2,...,x_d]$. In our case its the vocab size.\n",
    "\n",
    "\n",
    "\n",
    "\n"
   ]
  },
  {
   "cell_type": "code",
   "execution_count": 32,
   "metadata": {
    "id": "1cllNfGmUr77"
   },
   "outputs": [],
   "source": [
    "from sklearn.feature_extraction.text import CountVectorizer\n",
    "# Use Count vectorizer to get frequency of the words\n",
    "'''\n",
    "max_features parameter : If not None, build a vocabulary that only consider the top max_features ordered by term frequency across the corpus.\n",
    "vec = CountVectorizer(max_features = 3000)\n",
    "X = vec.fit_transform(Sentence_list)\n",
    "'''\n",
    "vectorizer = CountVectorizer(max_features=3000)\n",
    "x_train = vectorizer.fit_transform(X_train)\n",
    "x_train_arr = x_train.toarray()"
   ]
  },
  {
   "cell_type": "code",
   "execution_count": 33,
   "metadata": {
    "id": "qzRvPjWaWUnm"
   },
   "outputs": [],
   "source": [
    "# Use laplace smoothing for words in test set not present in vocab of train set\n",
    "# Use laplace smoothing for words in test set not present in vocab of train set\n",
    "train_list = vectorizer.get_feature_names()\n",
    "vect = CountVectorizer()\n",
    "x_test = vect.fit_transform(X_test)\n",
    "test_list = list(vect.get_feature_names())\n",
    "not_in_v = set(test_list).difference(set(train_list)) \n",
    "niv_list = list(not_in_v)\n",
    "tot_pos = 0\n",
    "tot_neg = 0\n",
    "total_words = len(not_in_v)+3000\n",
    "pos = np.zeros((total_words,1))\n",
    "neg = np.zeros((total_words,1))\n",
    "for i in range(3000):\n",
    "    num_pos = 0\n",
    "    num_neg = 0\n",
    "    for j in range(len(X_train)):\n",
    "        if y_train[j] == 0:\n",
    "            num_neg += x_train_arr[j][i]\n",
    "        else:\n",
    "            num_pos += x_train_arr[j][i]        \n",
    "    tot_neg += num_neg\n",
    "    tot_pos += num_pos\n",
    "    neg[i] = num_neg + 1\n",
    "    pos[i] = num_pos + 1\n",
    "    \n",
    "for i in range(len(niv_list)): \n",
    "    neg[i+3000] = 1\n",
    "    pos[i+3000] = 1\n"
   ]
  },
  {
   "cell_type": "code",
   "execution_count": 34,
   "metadata": {
    "id": "iE7pxWIYW1z0"
   },
   "outputs": [
    {
     "name": "stdout",
     "output_type": "stream",
     "text": [
      "1989728 1960152\n",
      "[[1.47212238e-04 1.13412367e-04]\n",
      " [1.61475016e-03 1.82061977e-03]\n",
      " [2.01207038e-04 1.79653219e-04]\n",
      " ...\n",
      " [5.09384908e-07 5.01824634e-07]\n",
      " [5.09384908e-07 5.01824634e-07]\n",
      " [5.09384908e-07 5.01824634e-07]]\n"
     ]
    }
   ],
   "source": [
    "# Build the model. Don't use the model from sklearn\n",
    "pfinal = np.zeros((total_words,2)) \n",
    "print(tot_pos, tot_neg)\n",
    "for i in range(total_words):\n",
    "    pfinal[i][0] = neg[i]/(tot_neg + 3000)\n",
    "    pfinal[i][1] = pos[i]/(tot_pos + 3000)\n",
    "    \n",
    "print(pfinal)\n"
   ]
  },
  {
   "cell_type": "code",
   "execution_count": 35,
   "metadata": {
    "id": "AtQSl1zvW4DD"
   },
   "outputs": [
    {
     "name": "stdout",
     "output_type": "stream",
     "text": [
      "accuracy is:  0.841\n"
     ]
    }
   ],
   "source": [
    "# Test the model on test set and report Accuracy\n",
    "x_test_arr = x_test.toarray()\n",
    "y_pred = []\n",
    "\n",
    "for i in range(len(X_test)): \n",
    "    posprob = 0\n",
    "    negprob = 0\n",
    "    temp = list(X_test[i].split())\n",
    "    for j in range(len(temp)):\n",
    "        if temp[j] in set(train_list):\n",
    "            k = train_list.index(temp[j])\n",
    "            posprob += np.log(pfinal[k][1])\n",
    "            negprob += np.log(pfinal[k][0])\n",
    "        else:\n",
    "            posprob += np.log(pfinal[total_words-1][1])\n",
    "            negprob += np.log(pfinal[total_words-1][0])\n",
    "    if (posprob > negprob):\n",
    "        y_pred.append(1)\n",
    "    else:\n",
    "        y_pred.append(0)\n",
    "\n",
    "correct = 0\n",
    "for i in range(len(y_test)):\n",
    "    if (y_test[i] == y_pred[i]):\n",
    "        correct += 1\n",
    "\n",
    "print(\"accuracy is: \", correct/(len(y_test)))\n"
   ]
  },
  {
   "cell_type": "markdown",
   "metadata": {
    "id": "WlNql0acU7sa"
   },
   "source": [
    "# *LSTM* based Classifier\n",
    "\n",
    "Use the above train and test splits."
   ]
  },
  {
   "cell_type": "code",
   "execution_count": 82,
   "metadata": {
    "id": "SkqnvbUOXoN0"
   },
   "outputs": [],
   "source": [
    "# Hyperparameters of the model\n",
    "vocab_size = 3000\n",
    "oov_tok = '<OOK>'\n",
    "embedding_dim = 100\n",
    "max_length =120\n",
    "padding_type='post'\n",
    "trunc_type='post'"
   ]
  },
  {
   "cell_type": "code",
   "execution_count": 83,
   "metadata": {
    "id": "UeycEg9nZAOF"
   },
   "outputs": [],
   "source": [
    "# tokenize sentences\n",
    "tokenizer = Tokenizer(num_words = vocab_size, oov_token=oov_tok)\n",
    "tokenizer.fit_on_texts(X_train)\n",
    "word_index = tokenizer.word_index\n",
    "\n",
    "# convert train dataset to sequence and pad sequences\n",
    "train_sequences = tokenizer.texts_to_sequences(X_train)\n",
    "train_padded = pad_sequences(train_sequences, padding='post', maxlen=max_length)\n",
    "\n",
    "# convert Test dataset to sequence and pad sequences\n",
    "test_sequences = tokenizer.texts_to_sequences(X_test)\n",
    "test_padded = pad_sequences(test_sequences, padding='post', maxlen=max_length)"
   ]
  },
  {
   "cell_type": "code",
   "execution_count": 84,
   "metadata": {
    "id": "Mtw3w895ZP39"
   },
   "outputs": [
    {
     "name": "stdout",
     "output_type": "stream",
     "text": [
      "Model: \"sequential_6\"\n",
      "_________________________________________________________________\n",
      "Layer (type)                 Output Shape              Param #   \n",
      "=================================================================\n",
      "embedding_6 (Embedding)      (None, 120, 100)          300000    \n",
      "_________________________________________________________________\n",
      "bidirectional_6 (Bidirection (None, 128)               84480     \n",
      "_________________________________________________________________\n",
      "dense_12 (Dense)             (None, 24)                3096      \n",
      "_________________________________________________________________\n",
      "dense_13 (Dense)             (None, 1)                 25        \n",
      "=================================================================\n",
      "Total params: 387,601\n",
      "Trainable params: 387,601\n",
      "Non-trainable params: 0\n",
      "_________________________________________________________________\n"
     ]
    }
   ],
   "source": [
    "# model initialization\n",
    "model = keras.Sequential([\n",
    "    keras.layers.Embedding(vocab_size, embedding_dim, input_length=max_length),\n",
    "    keras.layers.Bidirectional(keras.layers.LSTM(64)),\n",
    "    keras.layers.Dense(24, activation='relu'),\n",
    "    keras.layers.Dense(1, activation='sigmoid')\n",
    "])\n",
    "\n",
    "# compile model\n",
    "model.compile(loss='binary_crossentropy',\n",
    "              optimizer='adam',\n",
    "              metrics=['accuracy'])\n",
    "\n",
    "# model summary\n",
    "model.summary()"
   ]
  },
  {
   "cell_type": "code",
   "execution_count": 85,
   "metadata": {
    "id": "skmaDJMnZTzc"
   },
   "outputs": [
    {
     "name": "stdout",
     "output_type": "stream",
     "text": [
      "Epoch 1/5\n",
      "1125/1125 [==============================] - 46s 41ms/step - loss: 0.3699 - accuracy: 0.8366 - val_loss: 0.3188 - val_accuracy: 0.8687\n",
      "Epoch 2/5\n",
      "1125/1125 [==============================] - 44s 39ms/step - loss: 0.2699 - accuracy: 0.8910 - val_loss: 0.3022 - val_accuracy: 0.8735\n",
      "Epoch 3/5\n",
      "1125/1125 [==============================] - 48s 43ms/step - loss: 0.2335 - accuracy: 0.9077 - val_loss: 0.3089 - val_accuracy: 0.8748\n",
      "Epoch 4/5\n",
      "1125/1125 [==============================] - 45s 40ms/step - loss: 0.1946 - accuracy: 0.9241 - val_loss: 0.3264 - val_accuracy: 0.8685\n",
      "Epoch 5/5\n",
      "1125/1125 [==============================] - 45s 40ms/step - loss: 0.1593 - accuracy: 0.9402 - val_loss: 0.3475 - val_accuracy: 0.8635\n"
     ]
    }
   ],
   "source": [
    "num_epochs = 5\n",
    "history = model.fit(train_padded, y_train, \n",
    "                    epochs=num_epochs, verbose=1, \n",
    "                    validation_split=0.1)"
   ]
  },
  {
   "cell_type": "code",
   "execution_count": 93,
   "metadata": {
    "id": "TjEhWEr5Zq7M"
   },
   "outputs": [
    {
     "name": "stdout",
     "output_type": "stream",
     "text": [
      "              precision    recall  f1-score   support\n",
      "\n",
      "           0       0.85      0.87      0.86      5000\n",
      "           1       0.86      0.85      0.85      5000\n",
      "\n",
      "    accuracy                           0.86     10000\n",
      "   macro avg       0.86      0.86      0.86     10000\n",
      "weighted avg       0.86      0.86      0.86     10000\n",
      "\n"
     ]
    }
   ],
   "source": [
    "# Calculate accuracy on Test data\n",
    "# Get probabilities\n",
    "prediction = model.predict(test_padded)\n",
    "for i in range(len(prediction)):\n",
    "    if prediction[i] < 0.5:\n",
    "        prediction[i] = 0\n",
    "    else:\n",
    "        prediction[i] = 1\n",
    "\n",
    "print(classification_report(y_test, prediction))"
   ]
  },
  {
   "cell_type": "markdown",
   "metadata": {
    "id": "TIICV-ySOYL0"
   },
   "source": [
    "## Get predictions for random examples"
   ]
  },
  {
   "cell_type": "code",
   "execution_count": 99,
   "metadata": {
    "id": "m2RmfNL3OYL0"
   },
   "outputs": [
    {
     "name": "stdout",
     "output_type": "stream",
     "text": [
      "Probabilities : \n",
      "\n",
      "[[0.6480608 ]\n",
      " [0.15470463]\n",
      " [0.15309083]]\n",
      "\n",
      "Final predictions based on the probablities are: \n",
      "\n",
      "The movie was very touching and heart whelming  :  Positive review (1)\n",
      "I have never seen a terrible movie like this  :  Negative review (0)\n",
      "the movie plot is terrible but it had good acting  :  Negative review (0)\n"
     ]
    }
   ],
   "source": [
    "# reviews on which we need to predict\n",
    "sentence = [\"The movie was very touching and heart whelming\", \n",
    "            \"I have never seen a terrible movie like this\", \n",
    "            \"the movie plot is terrible but it had good acting\"]\n",
    "\n",
    "# convert to a sequence\n",
    "sequences = tokenizer.texts_to_sequences(sentence)\n",
    "\n",
    "# pad the sequence\n",
    "padded = pad_sequences(sequences, padding='post', maxlen=max_length)\n",
    "\n",
    "# Get probabilities\n",
    "my_prediction = model.predict(padded)\n",
    "print(\"Probabilities : \\n\")\n",
    "print(model.predict(padded))\n",
    "\n",
    "# Get labels based on probability 1 if p>= 0.5 else 0\n",
    "\n",
    "for i in range(len(my_prediction)):\n",
    "    if my_prediction[i] < 0.5:\n",
    "        my_prediction[i] = 0\n",
    "    else:\n",
    "        my_prediction[i] = 1\n",
    "\n",
    "print()        \n",
    "print(\"Final predictions based on the probablities are: \\n\")\n",
    "for i in range(len(my_prediction)):\n",
    "    print(sentence[i], \" : \" , end = ' ')\n",
    "    if(my_prediction[i]==0):\n",
    "        print(\"Negative review (0)\")\n",
    "    else :\n",
    "        print(\"Positive review (1)\")\n",
    "\n",
    "\n",
    "\n"
   ]
  },
  {
   "cell_type": "code",
   "execution_count": null,
   "metadata": {},
   "outputs": [],
   "source": []
  }
 ],
 "metadata": {
  "colab": {
   "collapsed_sections": [],
   "name": "NLP Assignment -3",
   "provenance": []
  },
  "kernelspec": {
   "display_name": "Python 3",
   "language": "python",
   "name": "python3"
  },
  "language_info": {
   "codemirror_mode": {
    "name": "ipython",
    "version": 3
   },
   "file_extension": ".py",
   "mimetype": "text/x-python",
   "name": "python",
   "nbconvert_exporter": "python",
   "pygments_lexer": "ipython3",
   "version": "3.6.9"
  }
 },
 "nbformat": 4,
 "nbformat_minor": 1
}
