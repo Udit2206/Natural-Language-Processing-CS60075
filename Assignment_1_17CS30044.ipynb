{
 "cells": [
  {
   "cell_type": "markdown",
   "metadata": {
    "colab_type": "text",
    "id": "fk0evCZ7U9WO"
   },
   "source": [
    "# **Assignment 1 on Natural Language Processing**\n",
    "\n",
    "### Date : 4th Sept, 2020\n",
    "\n",
    "#### Instructor : Prof. Sudeshna Sarkar\n",
    "\n",
    "#### Teaching Assistants : Alapan Kuila, Aniruddha Roy, Anusha Potnuru, Uppada Vishnu\n",
    "\n",
    "**Name : Udit Desai**\n",
    "**Roll number : 17CS30044**\n"
   ]
  },
  {
   "cell_type": "markdown",
   "metadata": {
    "colab_type": "text",
    "id": "Il_b_LFKXi8t"
   },
   "source": [
    " # NLTK Library"
   ]
  },
  {
   "cell_type": "markdown",
   "metadata": {
    "colab_type": "text",
    "id": "ss5CZjC2Xt0i"
   },
   "source": [
    "The [NLTK](https://www.nltk.org/) Python framework is generally used as an education and research tool. Tokenization, Stemming, Lemmatization, Punctuation, Character count, word count are some of these packages which will be discussed in this tutorial.\n",
    "\n",
    "**Installing Nltk** <br>\n",
    "Nltk can be installed using PIP or Conda package managers.For detailed installation instructions follow this [link](https://www.nltk.org/install.html).\n",
    "\n",
    "To ensure we are all on the same page, the coding environment will be in **python3**. We suggest downloading Anaconda3 and creating a separate environment to do this assignment. \n",
    "The link to anaconda3 for Windows and Linux is available here https://docs.anaconda.com/anaconda/install/. \n",
    "The steps to install NLTK is available on the link: \n",
    "```bash\n",
    "sudo pip3 install nltk \n",
    "python3 \n",
    "nltk.download()\n",
    "```"
   ]
  },
  {
   "cell_type": "markdown",
   "metadata": {
    "colab_type": "text",
    "id": "r4txbU5-RlMv"
   },
   "source": [
    "**Note for Question and answers:**\n",
    "\n",
    "Write your answers to the point in the text box below labelled as **Answer here**."
   ]
  },
  {
   "cell_type": "markdown",
   "metadata": {
    "colab_type": "text",
    "id": "52_aJRSqaHgC"
   },
   "source": [
    "# Tokenizing words and Sentences using Nltk"
   ]
  },
  {
   "cell_type": "markdown",
   "metadata": {
    "colab_type": "text",
    "id": "o5_ElYaeaMbR"
   },
   "source": [
    "**Tokenization** is the process by which big quantity of text is divided into smaller parts called tokens. <br>It is crucial to understand the pattern in the text in order to perform various NLP tasks.These tokens are very useful for finding such patterns.<br>\n",
    "\n",
    "Natural Language toolkit has very important module tokenize which further comprises of sub-modules\n",
    "\n",
    "1. word tokenize\n",
    "2. sentence tokenize"
   ]
  },
  {
   "cell_type": "code",
   "execution_count": 113,
   "metadata": {
    "colab": {},
    "colab_type": "code",
    "id": "sby_OS3qZ_fz"
   },
   "outputs": [
    {
     "name": "stderr",
     "output_type": "stream",
     "text": [
      "[nltk_data] Downloading package punkt to /home/udit/nltk_data...\n",
      "[nltk_data]   Package punkt is already up-to-date!\n",
      "[nltk_data] Downloading package inaugural to /home/udit/nltk_data...\n",
      "[nltk_data]   Package inaugural is already up-to-date!\n"
     ]
    }
   ],
   "source": [
    "# Importing modules\n",
    "import nltk\n",
    "nltk.download('punkt') # For tokenizers\n",
    "nltk.download('inaugural') # For dataset\n",
    "from nltk.tokenize import word_tokenize,sent_tokenize"
   ]
  },
  {
   "cell_type": "code",
   "execution_count": 114,
   "metadata": {
    "colab": {},
    "colab_type": "code",
    "id": "ew9Aq5WHXSn-"
   },
   "outputs": [],
   "source": [
    "# Sample corpus.\n",
    "from nltk.corpus import inaugural\n",
    "corpus = inaugural.raw('1789-Washington.txt')\n",
    "#print(corpus)"
   ]
  },
  {
   "cell_type": "markdown",
   "metadata": {
    "colab_type": "text",
    "id": "V2wbXKzVW0GO"
   },
   "source": [
    "### **TASK**:\n",
    "\n",
    "For the given corpus, \n",
    "1. Print the number of sentences and tokens. \n",
    "2. Print the average number of tokens per sentence.\n",
    "3. Print the number of unique tokens\n",
    "4. Print the number of tokens after stopword removal using the stopwords from nltk.\n"
   ]
  },
  {
   "cell_type": "code",
   "execution_count": 115,
   "metadata": {
    "colab": {},
    "colab_type": "code",
    "id": "jrtu9HcHXFe6"
   },
   "outputs": [
    {
     "name": "stdout",
     "output_type": "stream",
     "text": [
      "Number of sentences :  23\n",
      "Number of tokens :  1537\n",
      "Average number of tokens per sentence :  66.82608695652173    Rounded average :  67\n",
      "Number of unique tokens :  626\n",
      "Number of tokens after stopword removal :  800\n"
     ]
    }
   ],
   "source": [
    "# TODO\n",
    "list_of_sentences = sent_tokenize(corpus)\n",
    "number_of_sentences = len(list_of_sentences)\n",
    "\n",
    "list_of_tokens = word_tokenize(corpus)\n",
    "number_of_tokens = len(list_of_tokens)\n",
    "\n",
    "average_tokens_per_sentence = (number_of_tokens)/(number_of_sentences)\n",
    "\n",
    "unique_tokens = set(list_of_tokens)\n",
    "number_of_unique_tokens = len(unique_tokens)\n",
    "\n",
    "from nltk.corpus import stopwords\n",
    "stopwords = set(stopwords.words('english'))\n",
    "count = 0\n",
    "for i in list_of_tokens :\n",
    "    if not i in stopwords :\n",
    "        count+=1\n",
    "\n",
    "print(\"Number of sentences : \" , number_of_sentences)\n",
    "print(\"Number of tokens : \" , number_of_tokens)\n",
    "print(\"Average number of tokens per sentence : \" , average_tokens_per_sentence , \"   Rounded average : \", round(average_tokens_per_sentence))\n",
    "print(\"Number of unique tokens : \", number_of_unique_tokens)\n",
    "print(\"Number of tokens after stopword removal : \", count)"
   ]
  },
  {
   "cell_type": "markdown",
   "metadata": {
    "colab_type": "text",
    "id": "UViYY9_3t2UE"
   },
   "source": [
    "# Stemming and Lemmatization with NLTK"
   ]
  },
  {
   "cell_type": "markdown",
   "metadata": {
    "colab_type": "text",
    "id": "g55XX9KDLgO7"
   },
   "source": [
    "**What is Stemming?** <br>\n",
    "Stemming is a kind of normalization for words. Normalization is a technique where a set of words in a sentence are converted into a sequence to shorten its lookup. The words which have the same meaning but have some variation according to the context or sentence are normalized.<br>\n",
    "Hence Stemming is a way to find the root word from any variations of respective word\n",
    "\n",
    "There are many stemmers provided by Nltk like **PorterStemmer**, **SnowballStemmer**, **LancasterStemmer**.<br>\n",
    "\n",
    "We will try and see differences between Porterstemmer and Snowballstemmer"
   ]
  },
  {
   "cell_type": "code",
   "execution_count": 116,
   "metadata": {
    "colab": {},
    "colab_type": "code",
    "id": "SS4Ij__XLfTB"
   },
   "outputs": [
    {
     "name": "stdout",
     "output_type": "stream",
     "text": [
      "Applying the PorterStemmer and SnowballStemmer to the list of words : \n",
      "\n",
      "PorterStemmer ---  grows  :  grow\n",
      "SnowballStemmer ---  grows  :  grow\n",
      "\n",
      "PorterStemmer ---  leaves  :  leav\n",
      "SnowballStemmer ---  leaves  :  leav\n",
      "\n",
      "PorterStemmer ---  fairly  :  fairli\n",
      "SnowballStemmer ---  fairly  :  fair\n",
      "\n",
      "PorterStemmer ---  cats  :  cat\n",
      "SnowballStemmer ---  cats  :  cat\n",
      "\n",
      "PorterStemmer ---  trouble  :  troubl\n",
      "SnowballStemmer ---  trouble  :  troubl\n",
      "\n",
      "PorterStemmer ---  misunderstanding  :  misunderstand\n",
      "SnowballStemmer ---  misunderstanding  :  misunderstand\n",
      "\n",
      "PorterStemmer ---  friendships  :  friendship\n",
      "SnowballStemmer ---  friendships  :  friendship\n",
      "\n",
      "PorterStemmer ---  easily  :  easili\n",
      "SnowballStemmer ---  easily  :  easili\n",
      "\n",
      "PorterStemmer ---  rational  :  ration\n",
      "SnowballStemmer ---  rational  :  ration\n",
      "\n",
      "PorterStemmer ---  relational  :  relat\n",
      "SnowballStemmer ---  relational  :  relat\n",
      "\n"
     ]
    }
   ],
   "source": [
    "from nltk.stem import PorterStemmer\n",
    "from nltk.stem import SnowballStemmer # Note that SnowballStemmer has language as parameter.\n",
    "\n",
    "words = [\"grows\",\"leaves\",\"fairly\",\"cats\",\"trouble\",\"misunderstanding\",\"friendships\",\"easily\", \"rational\", \"relational\"]\n",
    "\n",
    "# TODO\n",
    "# create an instance of both the stemmers and perform stemming on above words\n",
    "porter_stemmer = PorterStemmer()\n",
    "snowball_stemmer = SnowballStemmer('english')\n",
    "\n",
    "print(\"Applying the PorterStemmer and SnowballStemmer to the list of words : \")\n",
    "print(\"\")\n",
    "for word in words : \n",
    "    print(\"PorterStemmer --- \" , word, \" : \", porter_stemmer.stem(word))\n",
    "    print(\"SnowballStemmer --- \" , word, \" : \", snowball_stemmer.stem(word))\n",
    "    print(\"\")\n",
    "\n",
    "# TODO\n",
    "# Complete the function which takes a sentence/corpus and gets its stemmed version.\n",
    "\n",
    "\n",
    "# I have applied the SnowballStemmer\n",
    "def stemSentence(sentence=None):\n",
    "    stemmed_sentence = word_tokenize(sentence)\n",
    "    \n",
    "    #stemmed_sentence is now in list form due to word_tokenize\n",
    "    for i in range(len(stemmed_sentence)) :\n",
    "        stemmed_sentence[i] = snowball_stemmer.stem(stemmed_sentence[i])\n",
    "    \n",
    "    # Converting list back to sentence form by adding each word along with a space\n",
    "    ret = \"\"\n",
    "    for i in range(len(stemmed_sentence)) :\n",
    "        ret = ret + stemmed_sentence[i] + \" \"\n",
    "        \n",
    "    # ret will now be in sentence form    \n",
    "    return ret\n"
   ]
  },
  {
   "cell_type": "markdown",
   "metadata": {
    "colab_type": "text",
    "id": "0JuE8CuDQSno"
   },
   "source": [
    "**What is Lemmatization?** <br>\n",
    "Lemmatization is the algorithmic process of finding the lemma of a word depending on their meaning. Lemmatization usually refers to the morphological analysis of words, which aims to remove inflectional endings. It helps in returning the base or dictionary form of a word, which is known as the lemma.<br>\n",
    "\n",
    "*The NLTK Lemmatization method is based on WorldNet's built-in morph function.*"
   ]
  },
  {
   "cell_type": "code",
   "execution_count": 117,
   "metadata": {
    "colab": {},
    "colab_type": "code",
    "id": "noyl1YNsQp98"
   },
   "outputs": [
    {
     "name": "stdout",
     "output_type": "stream",
     "text": [
      "word :  grows  ---- lemmatized word (adjective):  grows\n",
      "word :  grows  ---- lemmatized word (verb):  grow\n",
      "word :  grows  ---- lemmatized word (noun):  grows\n",
      "\n",
      "word :  leaves  ---- lemmatized word (adjective):  leaves\n",
      "word :  leaves  ---- lemmatized word (verb):  leave\n",
      "word :  leaves  ---- lemmatized word (noun):  leaf\n",
      "\n",
      "word :  fairly  ---- lemmatized word (adjective):  fairly\n",
      "word :  fairly  ---- lemmatized word (verb):  fairly\n",
      "word :  fairly  ---- lemmatized word (noun):  fairly\n",
      "\n",
      "word :  cats  ---- lemmatized word (adjective):  cats\n",
      "word :  cats  ---- lemmatized word (verb):  cat\n",
      "word :  cats  ---- lemmatized word (noun):  cat\n",
      "\n",
      "word :  trouble  ---- lemmatized word (adjective):  trouble\n",
      "word :  trouble  ---- lemmatized word (verb):  trouble\n",
      "word :  trouble  ---- lemmatized word (noun):  trouble\n",
      "\n",
      "word :  running  ---- lemmatized word (adjective):  running\n",
      "word :  running  ---- lemmatized word (verb):  run\n",
      "word :  running  ---- lemmatized word (noun):  running\n",
      "\n",
      "word :  friendships  ---- lemmatized word (adjective):  friendships\n",
      "word :  friendships  ---- lemmatized word (verb):  friendships\n",
      "word :  friendships  ---- lemmatized word (noun):  friendship\n",
      "\n",
      "word :  easily  ---- lemmatized word (adjective):  easily\n",
      "word :  easily  ---- lemmatized word (verb):  easily\n",
      "word :  easily  ---- lemmatized word (noun):  easily\n",
      "\n",
      "word :  was  ---- lemmatized word (adjective):  was\n",
      "word :  was  ---- lemmatized word (verb):  be\n",
      "word :  was  ---- lemmatized word (noun):  wa\n",
      "\n",
      "word :  relational  ---- lemmatized word (adjective):  relational\n",
      "word :  relational  ---- lemmatized word (verb):  relational\n",
      "word :  relational  ---- lemmatized word (noun):  relational\n",
      "\n",
      "word :  has  ---- lemmatized word (adjective):  has\n",
      "word :  has  ---- lemmatized word (verb):  have\n",
      "word :  has  ---- lemmatized word (noun):  ha\n",
      "\n"
     ]
    },
    {
     "name": "stderr",
     "output_type": "stream",
     "text": [
      "[nltk_data] Downloading package wordnet to /home/udit/nltk_data...\n",
      "[nltk_data]   Package wordnet is already up-to-date!\n"
     ]
    }
   ],
   "source": [
    "#imports\n",
    "from nltk.stem import WordNetLemmatizer\n",
    "nltk.download('wordnet') # Since Lemmatization method is based on WorldNet's built-in morph function.\n",
    "\n",
    "words = [\"grows\",\"leaves\",\"fairly\",\"cats\",\"trouble\",\"running\",\"friendships\",\"easily\", \"was\", \"relational\",\"has\"]\n",
    "\n",
    "#TODO\n",
    "# Create an instance of the Lemmatizer and perform Lemmatization on above words\n",
    "# You can also give Parts-of-speech(pos) to the Lemmatizer for example \"v\" (verb). Check the differences in the outputs.\n",
    "lemm = WordNetLemmatizer()\n",
    "for w in words :\n",
    "    # print(lemm.lemmatize(w,\"a\"))  to check with part of speech as \"a\" (adjective)\n",
    "    # print(lemm.lemmatize(w,\"v\"))\n",
    "    print(\"word : \", w, \" ---- lemmatized word (adjective): \", lemm.lemmatize(w,\"a\"))\n",
    "    print(\"word : \", w, \" ---- lemmatized word (verb): \", lemm.lemmatize(w,\"v\"))\n",
    "    print(\"word : \", w, \" ---- lemmatized word (noun): \", lemm.lemmatize(w,\"n\"))\n",
    "    print(\"\")\n",
    "\n",
    "#TODO\n",
    "# Complete the function which takes a sentence/corpus and gets its lemmatized version.\n",
    "def lemmatizeSentence(sentence=None):\n",
    "    #lemm_sentence is a list of words from given sentence/corpus\n",
    "    lemm_sentence = word_tokenize(sentence)  \n",
    "    \n",
    "    #lemmatizing each word in the list\n",
    "    for i in range(len(lemm_sentence)):\n",
    "        lemm_sentence[i] = lemm.lemmatize(lemm_sentence[i])\n",
    "    \n",
    "    #converting list to a sentence form\n",
    "    ret = \"\"\n",
    "    for i in range(len(lemm_sentence)):\n",
    "        ret = ret + lemm_sentence[i] + \" \"\n",
    "    \n",
    "    return ret\n",
    "\n"
   ]
  },
  {
   "cell_type": "markdown",
   "metadata": {
    "colab_type": "text",
    "id": "VJW6HsycSAlU"
   },
   "source": [
    "**Question:** Give example of two words which have same stem but different lemma? Show the stem and lemma of both words in the code below \n",
    "\n"
   ]
  },
  {
   "cell_type": "markdown",
   "metadata": {
    "colab_type": "text",
    "id": "zcq6bUEaSAt1"
   },
   "source": [
    "**Answer here:** <br>\n",
    "The two words are : \"counting\" and \"counted\". <br>\n",
    "They have the same stem, which is \"count\".<br>\n",
    "Their lemmas are \"counting\" and \"counted\".<br>"
   ]
  },
  {
   "cell_type": "code",
   "execution_count": 118,
   "metadata": {
    "colab": {},
    "colab_type": "code",
    "id": "a8OtIEmFkGBM"
   },
   "outputs": [
    {
     "name": "stdout",
     "output_type": "stream",
     "text": [
      "word1 :  counting\n",
      "word2 :  counted\n",
      "\n",
      "Stems :  count   count\n",
      "Lemmas :  counting   counted\n"
     ]
    }
   ],
   "source": [
    "#TODO\n",
    "# Write code to print the stem and lemma of both your words\n",
    "word1 = \"counting\"\n",
    "word2 = \"counted\"\n",
    "stem1 = porter_stemmer.stem(word1)\n",
    "stem2 = porter_stemmer.stem(word2)\n",
    "lemma1 = lemm.lemmatize(word1)\n",
    "lemma2 = lemm.lemmatize(word2)\n",
    "print(\"word1 : \", word1)\n",
    "print(\"word2 : \",word2)\n",
    "print(\"\")\n",
    "print(\"Stems : \",stem1,\" \",stem2)\n",
    "print(\"Lemmas : \",lemma1,\" \",lemma2)\n"
   ]
  },
  {
   "cell_type": "markdown",
   "metadata": {
    "colab_type": "text",
    "id": "e0tz3SIGSA2b"
   },
   "source": [
    "**Question:** Write a comparison between stemming and lemmatization?"
   ]
  },
  {
   "cell_type": "markdown",
   "metadata": {
    "colab_type": "text",
    "id": "aks8QaQ_SA_N"
   },
   "source": [
    "**Answer here:**<br>\n",
    "**Stemming** works by **slicing the end or the beginning of the word**, using a list of common prefixes and suffixes.<br>\n",
    "**Lemmatization** takes into consideration the **morphological analysis** of the words. It is necessary to have detailed dictionaries which the algorithm can look through to link the form back to its lemma. <br>\n",
    "Therefore, the basic difference is that **lemmatization takes into account the meaning of the word** in the sentence, whereas **stemming does not do that**. **Lemmatization always produces a valid word**, but **stemming does not always provide a valid word**.\n"
   ]
  },
  {
   "cell_type": "code",
   "execution_count": null,
   "metadata": {},
   "outputs": [],
   "source": []
  }
 ],
 "metadata": {
  "colab": {
   "collapsed_sections": [],
   "name": "NLP Assignment 1",
   "provenance": []
  },
  "kernelspec": {
   "display_name": "Python 3",
   "language": "python",
   "name": "python3"
  },
  "language_info": {
   "codemirror_mode": {
    "name": "ipython",
    "version": 3
   },
   "file_extension": ".py",
   "mimetype": "text/x-python",
   "name": "python",
   "nbconvert_exporter": "python",
   "pygments_lexer": "ipython3",
   "version": "3.6.9"
  }
 },
 "nbformat": 4,
 "nbformat_minor": 1
}
